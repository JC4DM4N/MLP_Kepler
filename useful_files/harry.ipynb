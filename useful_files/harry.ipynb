{
 "cells": [
  {
   "cell_type": "code",
   "execution_count": 70,
   "id": "polish-angel",
   "metadata": {},
   "outputs": [],
   "source": [
    "import numpy\n",
    "import pandas as pd\n",
    "import matplotlib.pyplot as plt"
   ]
  },
  {
   "cell_type": "code",
   "execution_count": 2,
   "id": "distinguished-covering",
   "metadata": {},
   "outputs": [],
   "source": [
    "from keras.datasets import imdb\n",
    "from keras.models import Sequential\n",
    "from keras.layers import Dense\n",
    "from keras.layers import LSTM\n",
    "from keras.layers.embeddings import Embedding\n",
    "from keras.preprocessing import sequence\n",
    "# fix random seed for reproducibility\n",
    "numpy.random.seed(7)"
   ]
  },
  {
   "cell_type": "code",
   "execution_count": null,
   "id": "devoted-analyst",
   "metadata": {},
   "outputs": [],
   "source": []
  },
  {
   "cell_type": "code",
   "execution_count": 40,
   "id": "opposed-compression",
   "metadata": {},
   "outputs": [],
   "source": [
    "from funcs.cleaning import *\n",
    "from astropy.io import fits\n",
    "from astropy.table import Table"
   ]
  },
  {
   "cell_type": "code",
   "execution_count": 14,
   "id": "residential-apparel",
   "metadata": {},
   "outputs": [],
   "source": [
    "koi = pd.read_csv('../KOI.csv', index_col='kepid').sort_index()"
   ]
  },
  {
   "cell_type": "code",
   "execution_count": 18,
   "id": "asian-indication",
   "metadata": {},
   "outputs": [
    {
     "data": {
      "text/plain": [
       "array([  757450,   892772,  1025986, ..., 12885212, 12885212, 12935144])"
      ]
     },
     "execution_count": 18,
     "metadata": {},
     "output_type": "execute_result"
    }
   ],
   "source": [
    "koi.index.values"
   ]
  },
  {
   "cell_type": "code",
   "execution_count": 24,
   "id": "toxic-cameroon",
   "metadata": {},
   "outputs": [
    {
     "data": {
      "text/plain": [
       "'000757450'"
      ]
     },
     "execution_count": 24,
     "metadata": {},
     "output_type": "execute_result"
    }
   ],
   "source": [
    "'{:09d}'.format(757450)"
   ]
  },
  {
   "cell_type": "code",
   "execution_count": 63,
   "id": "modular-cursor",
   "metadata": {},
   "outputs": [],
   "source": [
    "data = Table.read('../fits/kplr{:09d}-2009166043257_llc.fits'.format(koi.index.values[0]))['TIME','PDCSAP_FLUX']"
   ]
  },
  {
   "cell_type": "code",
   "execution_count": 77,
   "id": "another-conspiracy",
   "metadata": {},
   "outputs": [],
   "source": [
    "t = np.array(data['TIME'])\n",
    "f = np.array(data['PDCSAP_FLUX'])"
   ]
  },
  {
   "cell_type": "code",
   "execution_count": null,
   "id": "distinguished-truck",
   "metadata": {},
   "outputs": [],
   "source": [
    "# class clean(data):\n",
    "#     def __init__(self, data):\n",
    "#         self.t = np.array(data['TIME'])\n",
    "#         self.f = np.array(data['PDCSAP_FLUX'])\n",
    "#     def "
   ]
  },
  {
   "cell_type": "code",
   "execution_count": 71,
   "id": "apparent-cabinet",
   "metadata": {},
   "outputs": [
    {
     "data": {
      "text/plain": [
       "[<matplotlib.lines.Line2D at 0x7feac98e6278>]"
      ]
     },
     "execution_count": 71,
     "metadata": {},
     "output_type": "execute_result"
    },
    {
     "data": {
      "image/png": "[encoded data removed]",
      "text/plain": [
       "<Figure size 432x288 with 1 Axes>"
      ]
     },
     "metadata": {
      "needs_background": "light"
     },
     "output_type": "display_data"
    }
   ],
   "source": [
    "plt.plot(t,f)"
   ]
  },
  {
   "cell_type": "code",
   "execution_count": 78,
   "id": "limited-frontier",
   "metadata": {},
   "outputs": [
    {
     "data": {
      "text/plain": [
       "(array([131.51271469, 131.5331494 , 131.55358402, ..., 164.94351393,\n",
       "        164.96394812, 164.98438242]),\n",
       " array([11763.092, 11753.14 , 11758.108, ..., 11562.321, 11570.173,\n",
       "        11569.032], dtype=float32))"
      ]
     },
     "execution_count": 78,
     "metadata": {},
     "output_type": "execute_result"
    }
   ],
   "source": [
    "t, f"
   ]
  },
  {
   "cell_type": "code",
   "execution_count": 73,
   "id": "literary-device",
   "metadata": {},
   "outputs": [],
   "source": [
    "t, f = clean_arrays(t, f)"
   ]
  },
  {
   "cell_type": "code",
   "execution_count": 75,
   "id": "executive-privacy",
   "metadata": {},
   "outputs": [
    {
     "data": {
      "text/plain": [
       "(1624,)"
      ]
     },
     "execution_count": 75,
     "metadata": {},
     "output_type": "execute_result"
    }
   ],
   "source": [
    "t.shape"
   ]
  },
  {
   "cell_type": "code",
   "execution_count": 76,
   "id": "sapphire-sword",
   "metadata": {},
   "outputs": [
    {
     "data": {
      "text/plain": [
       "(1624,)"
      ]
     },
     "execution_count": 76,
     "metadata": {},
     "output_type": "execute_result"
    }
   ],
   "source": [
    "f.shape"
   ]
  },
  {
   "cell_type": "code",
   "execution_count": null,
   "id": "knowing-denver",
   "metadata": {},
   "outputs": [],
   "source": []
  }
 ],
 "metadata": {
  "kernelspec": {
   "display_name": "Python [conda env:astroconda] *",
   "language": "python",
   "name": "conda-env-astroconda-py"
  },
  "language_info": {
   "codemirror_mode": {
    "name": "ipython",
    "version": 3
   },
   "file_extension": ".py",
   "mimetype": "text/x-python",
   "name": "python",
   "nbconvert_exporter": "python",
   "pygments_lexer": "ipython3",
   "version": "3.6.10"
  }
 },
 "nbformat": 4,
 "nbformat_minor": 5
}
